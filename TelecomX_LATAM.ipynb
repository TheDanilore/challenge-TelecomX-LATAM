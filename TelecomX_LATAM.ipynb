{
  "nbformat": 4,
  "nbformat_minor": 0,
  "metadata": {
    "colab": {
      "provenance": []
    },
    "kernelspec": {
      "name": "python3",
      "display_name": "Python 3"
    },
    "language_info": {
      "name": "python"
    }
  },
  "cells": [
    {
      "cell_type": "markdown",
      "source": [
        "#📌 Extracción"
      ],
      "metadata": {
        "id": "4foVEKhrlqcH"
      }
    },
    {
      "cell_type": "code",
      "source": [
        "import pandas as pd\n",
        "import requests\n",
        "\n",
        "# URL de la API con los datos en formato JSON\n",
        "url = \"https://raw.githubusercontent.com/ingridcristh/challenge2-data-science-LATAM/main/TelecomX_Data.json\"\n",
        "\n",
        "# Extraer los datos de la API\n",
        "response = requests.get(url)\n",
        "data_json = response.json()\n",
        "\n",
        "# Convertir los datos JSON a un DataFrame de Pandas\n",
        "df = pd.DataFrame(data_json)\n",
        "\n",
        "# Normalizar los datos anidados de las columnas 'customer', 'phone', 'internet' y 'account'\n",
        "df_customer = pd.json_normalize(df['customer'])\n",
        "df_phone = pd.json_normalize(df['phone'])\n",
        "df_internet = pd.json_normalize(df['internet'])\n",
        "df_account = pd.json_normalize(df['account'])\n",
        "\n",
        "# Concatenar los DataFrames normalizados con el DataFrame original\n",
        "df_final = pd.concat([df['customerID'], df_customer, df_phone, df_internet, df_account, df['Churn']], axis=1)\n",
        "\n",
        "# Imprimir la información del nuevo DataFrame para verificar las columnas\n",
        "print(\"Información del DataFrame normalizado:\")\n",
        "df_final.info()\n",
        "print(\"\\nPrimeras filas del DataFrame normalizado:\")\n",
        "df_final.head()"
      ],
      "metadata": {
        "id": "1--uPM88l7JH",
        "colab": {
          "base_uri": "https://localhost:8080/",
          "height": 907
        },
        "outputId": "8095c8b1-054b-4729-e498-4e9dddc2f1bb"
      },
      "execution_count": 14,
      "outputs": [
        {
          "output_type": "stream",
          "name": "stdout",
          "text": [
            "Información del DataFrame normalizado:\n",
            "<class 'pandas.core.frame.DataFrame'>\n",
            "RangeIndex: 7267 entries, 0 to 7266\n",
            "Data columns (total 21 columns):\n",
            " #   Column            Non-Null Count  Dtype  \n",
            "---  ------            --------------  -----  \n",
            " 0   customerID        7267 non-null   object \n",
            " 1   gender            7267 non-null   object \n",
            " 2   SeniorCitizen     7267 non-null   int64  \n",
            " 3   Partner           7267 non-null   object \n",
            " 4   Dependents        7267 non-null   object \n",
            " 5   tenure            7267 non-null   int64  \n",
            " 6   PhoneService      7267 non-null   object \n",
            " 7   MultipleLines     7267 non-null   object \n",
            " 8   InternetService   7267 non-null   object \n",
            " 9   OnlineSecurity    7267 non-null   object \n",
            " 10  OnlineBackup      7267 non-null   object \n",
            " 11  DeviceProtection  7267 non-null   object \n",
            " 12  TechSupport       7267 non-null   object \n",
            " 13  StreamingTV       7267 non-null   object \n",
            " 14  StreamingMovies   7267 non-null   object \n",
            " 15  Contract          7267 non-null   object \n",
            " 16  PaperlessBilling  7267 non-null   object \n",
            " 17  PaymentMethod     7267 non-null   object \n",
            " 18  Charges.Monthly   7267 non-null   float64\n",
            " 19  Charges.Total     7267 non-null   object \n",
            " 20  Churn             7267 non-null   object \n",
            "dtypes: float64(1), int64(2), object(18)\n",
            "memory usage: 1.2+ MB\n",
            "\n",
            "Primeras filas del DataFrame normalizado:\n"
          ]
        },
        {
          "output_type": "execute_result",
          "data": {
            "text/plain": [
              "   customerID  gender  SeniorCitizen Partner Dependents  tenure PhoneService  \\\n",
              "0  0002-ORFBO  Female              0     Yes        Yes       9          Yes   \n",
              "1  0003-MKNFE    Male              0      No         No       9          Yes   \n",
              "2  0004-TLHLJ    Male              0      No         No       4          Yes   \n",
              "3  0011-IGKFF    Male              1     Yes         No      13          Yes   \n",
              "4  0013-EXCHZ  Female              1     Yes         No       3          Yes   \n",
              "\n",
              "  MultipleLines InternetService OnlineSecurity  ... DeviceProtection  \\\n",
              "0            No             DSL             No  ...               No   \n",
              "1           Yes             DSL             No  ...               No   \n",
              "2            No     Fiber optic             No  ...              Yes   \n",
              "3            No     Fiber optic             No  ...              Yes   \n",
              "4            No     Fiber optic             No  ...               No   \n",
              "\n",
              "  TechSupport StreamingTV StreamingMovies        Contract PaperlessBilling  \\\n",
              "0         Yes         Yes              No        One year              Yes   \n",
              "1          No          No             Yes  Month-to-month               No   \n",
              "2          No          No              No  Month-to-month              Yes   \n",
              "3          No         Yes             Yes  Month-to-month              Yes   \n",
              "4         Yes         Yes              No  Month-to-month              Yes   \n",
              "\n",
              "      PaymentMethod Charges.Monthly  Charges.Total Churn  \n",
              "0      Mailed check            65.6          593.3    No  \n",
              "1      Mailed check            59.9          542.4    No  \n",
              "2  Electronic check            73.9         280.85   Yes  \n",
              "3  Electronic check            98.0        1237.85   Yes  \n",
              "4      Mailed check            83.9          267.4   Yes  \n",
              "\n",
              "[5 rows x 21 columns]"
            ],
            "text/html": [
              "\n",
              "  <div id=\"df-7022713d-e8d2-4e9c-80fe-3dbf2c6b2a2b\" class=\"colab-df-container\">\n",
              "    <div>\n",
              "<style scoped>\n",
              "    .dataframe tbody tr th:only-of-type {\n",
              "        vertical-align: middle;\n",
              "    }\n",
              "\n",
              "    .dataframe tbody tr th {\n",
              "        vertical-align: top;\n",
              "    }\n",
              "\n",
              "    .dataframe thead th {\n",
              "        text-align: right;\n",
              "    }\n",
              "</style>\n",
              "<table border=\"1\" class=\"dataframe\">\n",
              "  <thead>\n",
              "    <tr style=\"text-align: right;\">\n",
              "      <th></th>\n",
              "      <th>customerID</th>\n",
              "      <th>gender</th>\n",
              "      <th>SeniorCitizen</th>\n",
              "      <th>Partner</th>\n",
              "      <th>Dependents</th>\n",
              "      <th>tenure</th>\n",
              "      <th>PhoneService</th>\n",
              "      <th>MultipleLines</th>\n",
              "      <th>InternetService</th>\n",
              "      <th>OnlineSecurity</th>\n",
              "      <th>...</th>\n",
              "      <th>DeviceProtection</th>\n",
              "      <th>TechSupport</th>\n",
              "      <th>StreamingTV</th>\n",
              "      <th>StreamingMovies</th>\n",
              "      <th>Contract</th>\n",
              "      <th>PaperlessBilling</th>\n",
              "      <th>PaymentMethod</th>\n",
              "      <th>Charges.Monthly</th>\n",
              "      <th>Charges.Total</th>\n",
              "      <th>Churn</th>\n",
              "    </tr>\n",
              "  </thead>\n",
              "  <tbody>\n",
              "    <tr>\n",
              "      <th>0</th>\n",
              "      <td>0002-ORFBO</td>\n",
              "      <td>Female</td>\n",
              "      <td>0</td>\n",
              "      <td>Yes</td>\n",
              "      <td>Yes</td>\n",
              "      <td>9</td>\n",
              "      <td>Yes</td>\n",
              "      <td>No</td>\n",
              "      <td>DSL</td>\n",
              "      <td>No</td>\n",
              "      <td>...</td>\n",
              "      <td>No</td>\n",
              "      <td>Yes</td>\n",
              "      <td>Yes</td>\n",
              "      <td>No</td>\n",
              "      <td>One year</td>\n",
              "      <td>Yes</td>\n",
              "      <td>Mailed check</td>\n",
              "      <td>65.6</td>\n",
              "      <td>593.3</td>\n",
              "      <td>No</td>\n",
              "    </tr>\n",
              "    <tr>\n",
              "      <th>1</th>\n",
              "      <td>0003-MKNFE</td>\n",
              "      <td>Male</td>\n",
              "      <td>0</td>\n",
              "      <td>No</td>\n",
              "      <td>No</td>\n",
              "      <td>9</td>\n",
              "      <td>Yes</td>\n",
              "      <td>Yes</td>\n",
              "      <td>DSL</td>\n",
              "      <td>No</td>\n",
              "      <td>...</td>\n",
              "      <td>No</td>\n",
              "      <td>No</td>\n",
              "      <td>No</td>\n",
              "      <td>Yes</td>\n",
              "      <td>Month-to-month</td>\n",
              "      <td>No</td>\n",
              "      <td>Mailed check</td>\n",
              "      <td>59.9</td>\n",
              "      <td>542.4</td>\n",
              "      <td>No</td>\n",
              "    </tr>\n",
              "    <tr>\n",
              "      <th>2</th>\n",
              "      <td>0004-TLHLJ</td>\n",
              "      <td>Male</td>\n",
              "      <td>0</td>\n",
              "      <td>No</td>\n",
              "      <td>No</td>\n",
              "      <td>4</td>\n",
              "      <td>Yes</td>\n",
              "      <td>No</td>\n",
              "      <td>Fiber optic</td>\n",
              "      <td>No</td>\n",
              "      <td>...</td>\n",
              "      <td>Yes</td>\n",
              "      <td>No</td>\n",
              "      <td>No</td>\n",
              "      <td>No</td>\n",
              "      <td>Month-to-month</td>\n",
              "      <td>Yes</td>\n",
              "      <td>Electronic check</td>\n",
              "      <td>73.9</td>\n",
              "      <td>280.85</td>\n",
              "      <td>Yes</td>\n",
              "    </tr>\n",
              "    <tr>\n",
              "      <th>3</th>\n",
              "      <td>0011-IGKFF</td>\n",
              "      <td>Male</td>\n",
              "      <td>1</td>\n",
              "      <td>Yes</td>\n",
              "      <td>No</td>\n",
              "      <td>13</td>\n",
              "      <td>Yes</td>\n",
              "      <td>No</td>\n",
              "      <td>Fiber optic</td>\n",
              "      <td>No</td>\n",
              "      <td>...</td>\n",
              "      <td>Yes</td>\n",
              "      <td>No</td>\n",
              "      <td>Yes</td>\n",
              "      <td>Yes</td>\n",
              "      <td>Month-to-month</td>\n",
              "      <td>Yes</td>\n",
              "      <td>Electronic check</td>\n",
              "      <td>98.0</td>\n",
              "      <td>1237.85</td>\n",
              "      <td>Yes</td>\n",
              "    </tr>\n",
              "    <tr>\n",
              "      <th>4</th>\n",
              "      <td>0013-EXCHZ</td>\n",
              "      <td>Female</td>\n",
              "      <td>1</td>\n",
              "      <td>Yes</td>\n",
              "      <td>No</td>\n",
              "      <td>3</td>\n",
              "      <td>Yes</td>\n",
              "      <td>No</td>\n",
              "      <td>Fiber optic</td>\n",
              "      <td>No</td>\n",
              "      <td>...</td>\n",
              "      <td>No</td>\n",
              "      <td>Yes</td>\n",
              "      <td>Yes</td>\n",
              "      <td>No</td>\n",
              "      <td>Month-to-month</td>\n",
              "      <td>Yes</td>\n",
              "      <td>Mailed check</td>\n",
              "      <td>83.9</td>\n",
              "      <td>267.4</td>\n",
              "      <td>Yes</td>\n",
              "    </tr>\n",
              "  </tbody>\n",
              "</table>\n",
              "<p>5 rows × 21 columns</p>\n",
              "</div>\n",
              "    <div class=\"colab-df-buttons\">\n",
              "\n",
              "  <div class=\"colab-df-container\">\n",
              "    <button class=\"colab-df-convert\" onclick=\"convertToInteractive('df-7022713d-e8d2-4e9c-80fe-3dbf2c6b2a2b')\"\n",
              "            title=\"Convert this dataframe to an interactive table.\"\n",
              "            style=\"display:none;\">\n",
              "\n",
              "  <svg xmlns=\"http://www.w3.org/2000/svg\" height=\"24px\" viewBox=\"0 -960 960 960\">\n",
              "    <path d=\"M120-120v-720h720v720H120Zm60-500h600v-160H180v160Zm220 220h160v-160H400v160Zm0 220h160v-160H400v160ZM180-400h160v-160H180v160Zm440 0h160v-160H620v160ZM180-180h160v-160H180v160Zm440 0h160v-160H620v160Z\"/>\n",
              "  </svg>\n",
              "    </button>\n",
              "\n",
              "  <style>\n",
              "    .colab-df-container {\n",
              "      display:flex;\n",
              "      gap: 12px;\n",
              "    }\n",
              "\n",
              "    .colab-df-convert {\n",
              "      background-color: #E8F0FE;\n",
              "      border: none;\n",
              "      border-radius: 50%;\n",
              "      cursor: pointer;\n",
              "      display: none;\n",
              "      fill: #1967D2;\n",
              "      height: 32px;\n",
              "      padding: 0 0 0 0;\n",
              "      width: 32px;\n",
              "    }\n",
              "\n",
              "    .colab-df-convert:hover {\n",
              "      background-color: #E2EBFA;\n",
              "      box-shadow: 0px 1px 2px rgba(60, 64, 67, 0.3), 0px 1px 3px 1px rgba(60, 64, 67, 0.15);\n",
              "      fill: #174EA6;\n",
              "    }\n",
              "\n",
              "    .colab-df-buttons div {\n",
              "      margin-bottom: 4px;\n",
              "    }\n",
              "\n",
              "    [theme=dark] .colab-df-convert {\n",
              "      background-color: #3B4455;\n",
              "      fill: #D2E3FC;\n",
              "    }\n",
              "\n",
              "    [theme=dark] .colab-df-convert:hover {\n",
              "      background-color: #434B5C;\n",
              "      box-shadow: 0px 1px 3px 1px rgba(0, 0, 0, 0.15);\n",
              "      filter: drop-shadow(0px 1px 2px rgba(0, 0, 0, 0.3));\n",
              "      fill: #FFFFFF;\n",
              "    }\n",
              "  </style>\n",
              "\n",
              "    <script>\n",
              "      const buttonEl =\n",
              "        document.querySelector('#df-7022713d-e8d2-4e9c-80fe-3dbf2c6b2a2b button.colab-df-convert');\n",
              "      buttonEl.style.display =\n",
              "        google.colab.kernel.accessAllowed ? 'block' : 'none';\n",
              "\n",
              "      async function convertToInteractive(key) {\n",
              "        const element = document.querySelector('#df-7022713d-e8d2-4e9c-80fe-3dbf2c6b2a2b');\n",
              "        const dataTable =\n",
              "          await google.colab.kernel.invokeFunction('convertToInteractive',\n",
              "                                                    [key], {});\n",
              "        if (!dataTable) return;\n",
              "\n",
              "        const docLinkHtml = 'Like what you see? Visit the ' +\n",
              "          '<a target=\"_blank\" href=https://colab.research.google.com/notebooks/data_table.ipynb>data table notebook</a>'\n",
              "          + ' to learn more about interactive tables.';\n",
              "        element.innerHTML = '';\n",
              "        dataTable['output_type'] = 'display_data';\n",
              "        await google.colab.output.renderOutput(dataTable, element);\n",
              "        const docLink = document.createElement('div');\n",
              "        docLink.innerHTML = docLinkHtml;\n",
              "        element.appendChild(docLink);\n",
              "      }\n",
              "    </script>\n",
              "  </div>\n",
              "\n",
              "\n",
              "    <div id=\"df-0f022f9a-092d-408f-a31a-6375ce119978\">\n",
              "      <button class=\"colab-df-quickchart\" onclick=\"quickchart('df-0f022f9a-092d-408f-a31a-6375ce119978')\"\n",
              "                title=\"Suggest charts\"\n",
              "                style=\"display:none;\">\n",
              "\n",
              "<svg xmlns=\"http://www.w3.org/2000/svg\" height=\"24px\"viewBox=\"0 0 24 24\"\n",
              "     width=\"24px\">\n",
              "    <g>\n",
              "        <path d=\"M19 3H5c-1.1 0-2 .9-2 2v14c0 1.1.9 2 2 2h14c1.1 0 2-.9 2-2V5c0-1.1-.9-2-2-2zM9 17H7v-7h2v7zm4 0h-2V7h2v10zm4 0h-2v-4h2v4z\"/>\n",
              "    </g>\n",
              "</svg>\n",
              "      </button>\n",
              "\n",
              "<style>\n",
              "  .colab-df-quickchart {\n",
              "      --bg-color: #E8F0FE;\n",
              "      --fill-color: #1967D2;\n",
              "      --hover-bg-color: #E2EBFA;\n",
              "      --hover-fill-color: #174EA6;\n",
              "      --disabled-fill-color: #AAA;\n",
              "      --disabled-bg-color: #DDD;\n",
              "  }\n",
              "\n",
              "  [theme=dark] .colab-df-quickchart {\n",
              "      --bg-color: #3B4455;\n",
              "      --fill-color: #D2E3FC;\n",
              "      --hover-bg-color: #434B5C;\n",
              "      --hover-fill-color: #FFFFFF;\n",
              "      --disabled-bg-color: #3B4455;\n",
              "      --disabled-fill-color: #666;\n",
              "  }\n",
              "\n",
              "  .colab-df-quickchart {\n",
              "    background-color: var(--bg-color);\n",
              "    border: none;\n",
              "    border-radius: 50%;\n",
              "    cursor: pointer;\n",
              "    display: none;\n",
              "    fill: var(--fill-color);\n",
              "    height: 32px;\n",
              "    padding: 0;\n",
              "    width: 32px;\n",
              "  }\n",
              "\n",
              "  .colab-df-quickchart:hover {\n",
              "    background-color: var(--hover-bg-color);\n",
              "    box-shadow: 0 1px 2px rgba(60, 64, 67, 0.3), 0 1px 3px 1px rgba(60, 64, 67, 0.15);\n",
              "    fill: var(--button-hover-fill-color);\n",
              "  }\n",
              "\n",
              "  .colab-df-quickchart-complete:disabled,\n",
              "  .colab-df-quickchart-complete:disabled:hover {\n",
              "    background-color: var(--disabled-bg-color);\n",
              "    fill: var(--disabled-fill-color);\n",
              "    box-shadow: none;\n",
              "  }\n",
              "\n",
              "  .colab-df-spinner {\n",
              "    border: 2px solid var(--fill-color);\n",
              "    border-color: transparent;\n",
              "    border-bottom-color: var(--fill-color);\n",
              "    animation:\n",
              "      spin 1s steps(1) infinite;\n",
              "  }\n",
              "\n",
              "  @keyframes spin {\n",
              "    0% {\n",
              "      border-color: transparent;\n",
              "      border-bottom-color: var(--fill-color);\n",
              "      border-left-color: var(--fill-color);\n",
              "    }\n",
              "    20% {\n",
              "      border-color: transparent;\n",
              "      border-left-color: var(--fill-color);\n",
              "      border-top-color: var(--fill-color);\n",
              "    }\n",
              "    30% {\n",
              "      border-color: transparent;\n",
              "      border-left-color: var(--fill-color);\n",
              "      border-top-color: var(--fill-color);\n",
              "      border-right-color: var(--fill-color);\n",
              "    }\n",
              "    40% {\n",
              "      border-color: transparent;\n",
              "      border-right-color: var(--fill-color);\n",
              "      border-top-color: var(--fill-color);\n",
              "    }\n",
              "    60% {\n",
              "      border-color: transparent;\n",
              "      border-right-color: var(--fill-color);\n",
              "    }\n",
              "    80% {\n",
              "      border-color: transparent;\n",
              "      border-right-color: var(--fill-color);\n",
              "      border-bottom-color: var(--fill-color);\n",
              "    }\n",
              "    90% {\n",
              "      border-color: transparent;\n",
              "      border-bottom-color: var(--fill-color);\n",
              "    }\n",
              "  }\n",
              "</style>\n",
              "\n",
              "      <script>\n",
              "        async function quickchart(key) {\n",
              "          const quickchartButtonEl =\n",
              "            document.querySelector('#' + key + ' button');\n",
              "          quickchartButtonEl.disabled = true;  // To prevent multiple clicks.\n",
              "          quickchartButtonEl.classList.add('colab-df-spinner');\n",
              "          try {\n",
              "            const charts = await google.colab.kernel.invokeFunction(\n",
              "                'suggestCharts', [key], {});\n",
              "          } catch (error) {\n",
              "            console.error('Error during call to suggestCharts:', error);\n",
              "          }\n",
              "          quickchartButtonEl.classList.remove('colab-df-spinner');\n",
              "          quickchartButtonEl.classList.add('colab-df-quickchart-complete');\n",
              "        }\n",
              "        (() => {\n",
              "          let quickchartButtonEl =\n",
              "            document.querySelector('#df-0f022f9a-092d-408f-a31a-6375ce119978 button');\n",
              "          quickchartButtonEl.style.display =\n",
              "            google.colab.kernel.accessAllowed ? 'block' : 'none';\n",
              "        })();\n",
              "      </script>\n",
              "    </div>\n",
              "\n",
              "    </div>\n",
              "  </div>\n"
            ],
            "application/vnd.google.colaboratory.intrinsic+json": {
              "type": "dataframe",
              "variable_name": "df_final"
            }
          },
          "metadata": {},
          "execution_count": 14
        }
      ]
    },
    {
      "cell_type": "markdown",
      "source": [
        "#🔧 Transformación"
      ],
      "metadata": {
        "id": "1lSZP8zmmGZu"
      }
    },
    {
      "cell_type": "code",
      "source": [
        "# Convertir 'Charges.Total' a numérico y rellenar nulos\n",
        "df_final['Charges.Total'] = pd.to_numeric(df_final['Charges.Total'], errors='coerce')\n",
        "df_final['Charges.Total'] = df_final['Charges.Total'].fillna(0)\n",
        "\n",
        "# Lista de columnas binarias para convertir\n",
        "columnas_binarias = [\n",
        "    'gender',\n",
        "    'SeniorCitizen',\n",
        "    'Partner',\n",
        "    'Dependents',\n",
        "    'PhoneService',\n",
        "    'MultipleLines',\n",
        "    'InternetService',\n",
        "    'OnlineSecurity',\n",
        "    'OnlineBackup',\n",
        "    'DeviceProtection',\n",
        "    'TechSupport',\n",
        "    'StreamingTV',\n",
        "    'StreamingMovies',\n",
        "    'PaperlessBilling'\n",
        "]\n",
        "\n",
        "# Diccionario para los reemplazos\n",
        "reemplazos = {\n",
        "    'Sí': 1, 'No': 0,\n",
        "    'Yes': 1, 'No': 0,\n",
        "    'Male': 1, 'Female': 0\n",
        "}\n",
        "\n",
        "# Aplicar el reemplazo a cada columna en la lista sin inplace=True\n",
        "for col in columnas_binarias:\n",
        "    df_final[col] = df_final[col].replace(reemplazos)\n",
        "\n",
        "# Convertir 'Churn' a 1/0\n",
        "df_final['Churn'] = df_final['Churn'].replace({'Sí': 1, 'No': 0})"
      ],
      "metadata": {
        "id": "bsm-WTLjmHvt"
      },
      "execution_count": 33,
      "outputs": []
    },
    {
      "cell_type": "code",
      "source": [
        "# Muestra los valores únicos en la columna Churn\n",
        "print(\"Valores únicos en la columna 'Churn' antes de la corrección:\")\n",
        "print(df_final['Churn'].unique())"
      ],
      "metadata": {
        "colab": {
          "base_uri": "https://localhost:8080/"
        },
        "id": "bwXD3u8AWx5u",
        "outputId": "62b361a2-d284-42ba-d47b-736c0848a72d"
      },
      "execution_count": 46,
      "outputs": [
        {
          "output_type": "stream",
          "name": "stdout",
          "text": [
            "Valores únicos en la columna 'Churn' antes de la corrección:\n",
            "[0 1]\n"
          ]
        }
      ]
    },
    {
      "cell_type": "code",
      "source": [
        "# Reemplazar todos los valores de texto por 1 o 0\n",
        "df_final['Churn'] = df_final['Churn'].replace({'Yes': 1, 'No': 0, 'Sí': 1, 'No': 0, '': 0})\n",
        "\n",
        "# Convierte la columna a tipo entero\n",
        "df_final['Churn'] = df_final['Churn'].astype(int)\n",
        "\n",
        "# Muestra los valores únicos después de la corrección\n",
        "print(\"Valores únicos en la columna 'Churn' después de la corrección:\")\n",
        "print(df_final['Churn'].unique())"
      ],
      "metadata": {
        "colab": {
          "base_uri": "https://localhost:8080/"
        },
        "id": "C6-7vgYIVtfO",
        "outputId": "a9cbbe07-b807-4f7f-c196-ae2317c728a2"
      },
      "execution_count": 47,
      "outputs": [
        {
          "output_type": "stream",
          "name": "stdout",
          "text": [
            "Valores únicos en la columna 'Churn' después de la corrección:\n",
            "[0 1]\n"
          ]
        }
      ]
    },
    {
      "cell_type": "markdown",
      "source": [
        "#📊 Carga y análisis"
      ],
      "metadata": {
        "id": "6XnTC2NTmMRL"
      }
    },
    {
      "cell_type": "markdown",
      "source": [
        "### 1. Análisis Descriptivo"
      ],
      "metadata": {
        "id": "34GwhI8ZRh_f"
      }
    },
    {
      "cell_type": "code",
      "source": [
        "print(\"Estadísticas descriptivas de las variables numéricas:\")\n",
        "print(df_final.describe())"
      ],
      "metadata": {
        "id": "1jgUnLqTmPdd",
        "colab": {
          "base_uri": "https://localhost:8080/"
        },
        "outputId": "0b2c5b2c-4ae2-4914-95e2-9d62c342eb04"
      },
      "execution_count": 39,
      "outputs": [
        {
          "output_type": "stream",
          "name": "stdout",
          "text": [
            "Estadísticas descriptivas de las variables numéricas:\n",
            "            gender  SeniorCitizen      Partner   Dependents       tenure  \\\n",
            "count  7267.000000    7267.000000  7267.000000  7267.000000  7267.000000   \n",
            "mean      0.505711       0.162653     0.484106     0.300124    32.346498   \n",
            "std       0.500002       0.369074     0.499782     0.458343    24.571773   \n",
            "min       0.000000       0.000000     0.000000     0.000000     0.000000   \n",
            "25%       0.000000       0.000000     0.000000     0.000000     9.000000   \n",
            "50%       1.000000       0.000000     0.000000     0.000000    29.000000   \n",
            "75%       1.000000       0.000000     1.000000     1.000000    55.000000   \n",
            "max       1.000000       1.000000     1.000000     1.000000    72.000000   \n",
            "\n",
            "       PhoneService  PaperlessBilling  Charges.Monthly  Charges.Total  \\\n",
            "count   7267.000000       7267.000000      7267.000000    7267.000000   \n",
            "mean       0.902711          0.593230        64.720098    2277.182035   \n",
            "std        0.296371          0.491265        30.129572    2268.648587   \n",
            "min        0.000000          0.000000        18.250000       0.000000   \n",
            "25%        1.000000          0.000000        35.425000     396.200000   \n",
            "50%        1.000000          1.000000        70.300000    1389.200000   \n",
            "75%        1.000000          1.000000        89.875000    3778.525000   \n",
            "max        1.000000          1.000000       118.750000    8684.800000   \n",
            "\n",
            "             Churn  \n",
            "count  7267.000000  \n",
            "mean      0.257190  \n",
            "std       0.437115  \n",
            "min       0.000000  \n",
            "25%       0.000000  \n",
            "50%       0.000000  \n",
            "75%       1.000000  \n",
            "max       1.000000  \n"
          ]
        }
      ]
    },
    {
      "cell_type": "markdown",
      "source": [
        "### 2. Distribución de la Evasión"
      ],
      "metadata": {
        "id": "-ovfuqpaRmo3"
      }
    },
    {
      "cell_type": "code",
      "source": [
        "import matplotlib.pyplot as plt\n",
        "import seaborn as sns\n",
        "\n",
        "# Visualización de la distribución de 'Churn'\n",
        "plt.figure(figsize=(6, 4))\n",
        "sns.countplot(x='Churn', data=df_final)\n",
        "plt.title('Distribución de Evasión (Churn)')\n",
        "plt.xlabel('Evasión (0 = No, 1 = Sí)')\n",
        "plt.ylabel('Número de Clientes')\n",
        "plt.xticks([0, 1], ['No', 'Sí'])\n",
        "plt.show()"
      ],
      "metadata": {
        "colab": {
          "base_uri": "https://localhost:8080/",
          "height": 410
        },
        "id": "UYIZXSBzRpyX",
        "outputId": "a1c3ba84-06db-4a43-c050-b01030c9c3f3"
      },
      "execution_count": 40,
      "outputs": [
        {
          "output_type": "display_data",
          "data": {
            "text/plain": [
              "<Figure size 600x400 with 1 Axes>"
            ],
            "image/png": "[encoded data removed]"
          },
          "metadata": {}
        }
      ]
    },
    {
      "cell_type": "markdown",
      "source": [
        "### 3. Recuento de Evasión por Variables Categóricas"
      ],
      "metadata": {
        "id": "9fGNBQoORxTH"
      }
    },
    {
      "cell_type": "code",
      "source": [
        "# Gráfico de barras para Churn por tipo de contrato\n",
        "plt.figure(figsize=(10, 6))\n",
        "sns.countplot(x='Contract', hue='Churn', data=df_final)\n",
        "plt.title('Evasión por Tipo de Contrato')\n",
        "plt.xlabel('Tipo de Contrato')\n",
        "plt.ylabel('Número de Clientes')\n",
        "plt.legend(title='Evasión', labels=['No', 'Sí'])\n",
        "plt.show()\n"
      ],
      "metadata": {
        "colab": {
          "base_uri": "https://localhost:8080/",
          "height": 565
        },
        "id": "7MwRSI4qRz3H",
        "outputId": "30873f10-0253-42d6-acea-20057dfa8038"
      },
      "execution_count": 41,
      "outputs": [
        {
          "output_type": "display_data",
          "data": {
            "text/plain": [
              "<Figure size 1000x600 with 1 Axes>"
            ],
            "image/png": "[encoded data removed]"
          },
          "metadata": {}
        }
      ]
    },
    {
      "cell_type": "code",
      "source": [
        "# Gráfico de barras para Churn por método de pago\n",
        "plt.figure(figsize=(12, 6))\n",
        "sns.countplot(x='PaymentMethod', hue='Churn', data=df_final)\n",
        "plt.title('Evasión por Método de Pago')\n",
        "plt.xlabel('Método de Pago')\n",
        "plt.ylabel('Número de Clientes')\n",
        "plt.xticks(rotation=45)\n",
        "plt.legend(title='Evasión', labels=['No', 'Sí'])\n",
        "plt.show()"
      ],
      "metadata": {
        "colab": {
          "base_uri": "https://localhost:8080/",
          "height": 688
        },
        "id": "1tDyxtq6R8Rf",
        "outputId": "35478c5a-dc04-417b-8fac-e3cbeeae37ed"
      },
      "execution_count": 42,
      "outputs": [
        {
          "output_type": "display_data",
          "data": {
            "text/plain": [
              "<Figure size 1200x600 with 1 Axes>"
            ],
            "image/png": "[encoded data removed]"
          },
          "metadata": {}
        }
      ]
    },
    {
      "cell_type": "markdown",
      "source": [
        "### 4. Conteo de Evasión por Variables Numéricas"
      ],
      "metadata": {
        "id": "kqy0VedGSFpg"
      }
    },
    {
      "cell_type": "code",
      "source": [
        "# Gráfico de caja de 'tenure' vs. Churn\n",
        "plt.figure(figsize=(8, 6))\n",
        "sns.boxplot(x='Churn', y='tenure', data=df_final)\n",
        "plt.title('Meses de Contrato vs. Evasión')\n",
        "plt.xlabel('Evasión (0 = No, 1 = Sí)')\n",
        "plt.ylabel('Meses de Contrato')\n",
        "plt.xticks([0, 1], ['No', 'Sí'])\n",
        "plt.show()"
      ],
      "metadata": {
        "colab": {
          "base_uri": "https://localhost:8080/",
          "height": 564
        },
        "id": "4-3Za7DESHEI",
        "outputId": "1311dbd5-067d-4cab-b25d-5f06f043947f"
      },
      "execution_count": 43,
      "outputs": [
        {
          "output_type": "display_data",
          "data": {
            "text/plain": [
              "<Figure size 800x600 with 1 Axes>"
            ],
            "image/png": "[encoded data removed]"
          },
          "metadata": {}
        }
      ]
    },
    {
      "cell_type": "code",
      "source": [
        "# Gráfico de caja de 'Charges.Monthly' vs. Churn\n",
        "plt.figure(figsize=(8, 6))\n",
        "sns.boxplot(x='Churn', y='Charges.Monthly', data=df_final)\n",
        "plt.title('Cargos Mensuales vs. Evasión')\n",
        "plt.xlabel('Evasión (0 = No, 1 = Sí)')\n",
        "plt.ylabel('Cargos Mensuales')\n",
        "plt.xticks([0, 1], ['No', 'Sí'])\n",
        "plt.show()"
      ],
      "metadata": {
        "colab": {
          "base_uri": "https://localhost:8080/",
          "height": 565
        },
        "id": "OePrrKtfSMD3",
        "outputId": "2f253d91-e229-436d-ee08-1e15409c7748"
      },
      "execution_count": 44,
      "outputs": [
        {
          "output_type": "display_data",
          "data": {
            "text/plain": [
              "<Figure size 800x600 with 1 Axes>"
            ],
            "image/png": "[encoded data removed]"
          },
          "metadata": {}
        }
      ]
    },
    {
      "cell_type": "markdown",
      "source": [
        "#📄Informe final"
      ],
      "metadata": {
        "id": "v-WzfSvTmaw9"
      }
    },
    {
      "cell_type": "markdown",
      "source": [
        "## Introducción"
      ],
      "metadata": {
        "id": "zBU-mm3_Tcq9"
      }
    },
    {
      "cell_type": "markdown",
      "source": [
        "Este informe presenta un análisis exploratorio de datos (EDA) para comprender los factores que influyen en la evasión de clientes (Churn) en Telecom X. El objetivo es identificar los patrones y las variables más relevantes asociadas con la pérdida de clientes para que el equipo de Data Science pueda desarrollar estrategias de retención más efectivas."
      ],
      "metadata": {
        "id": "MS8ssOoRTlLG"
      }
    },
    {
      "cell_type": "markdown",
      "source": [
        "## Limpieza y Tratamiento de Datos"
      ],
      "metadata": {
        "id": "AUZGIprpTnZu"
      }
    },
    {
      "cell_type": "markdown",
      "source": [
        "Se extrajeron los datos en formato JSON directamente desde la API proporcionada. Al inspeccionar el conjunto de datos, se observó que la información del cliente estaba anidada en columnas como 'customer', 'phone', 'internet' y 'account'. Para resolver esto, se aplanaron los datos usando pd.json_normalize(), creando un DataFrame con una estructura más plana y accesible.\n",
        "\n",
        "Se realizaron las siguientes correcciones:\n",
        "\n",
        "Se convirtió la columna 'Charges.Total' a tipo numérico, manejando los valores no numéricos como nulos y rellenándolos con 0.\n",
        "\n",
        "Se transformaron las variables categóricas binarias (como gender, SeniorCitizen, Partner, PhoneService, etc.) de valores de texto ('Male', 'Female', 'Yes', 'No') a valores numéricos (0 y 1) para facilitar el análisis.\n",
        "\n",
        "Se creó una nueva columna, 'Cuentas_Diarias', para proporcionar una visión más granular del gasto del cliente."
      ],
      "metadata": {
        "id": "WmPiIfcdTtRv"
      }
    },
    {
      "cell_type": "markdown",
      "source": [
        "## Análisis Exploratorio de Datos (EDA)"
      ],
      "metadata": {
        "id": "pjHyfwF-T252"
      }
    },
    {
      "cell_type": "markdown",
      "source": [
        "### 1. Distribución de Evasión\n",
        "\n",
        "La distribución del Churn muestra que , la mayoría de los clientes permanecen con la compañía, pero una porción significativa ha cancelado el servicio. Esto confirma que la evasión es un problema real que necesita atención."
      ],
      "metadata": {
        "id": "NzmbX7tOT7aG"
      }
    },
    {
      "cell_type": "markdown",
      "source": [
        "### 2. Evasión por Variables Categóricas\n",
        "\n",
        "El análisis por variables categóricas reveló insights clave:\n",
        "\n",
        "Tipo de Contrato: Los clientes con un contrato de mes a mes tienen una tasa de evasión considerablemente más alta que aquellos con contratos a largo plazo (uno o dos años). Esto sugiere que la falta de un compromiso a largo plazo facilita la cancelación.\n",
        "\n",
        "Método de Pago: Se observó que los clientes que utilizan el cheque electrónico como método de pago son los que más tienden a evadir la empresa."
      ],
      "metadata": {
        "id": "qZY_vREPUAbY"
      }
    },
    {
      "cell_type": "markdown",
      "source": [
        "### 3. Evasión por Variables Numéricas\n",
        "\n",
        "El análisis de las variables numéricas mostró patrones claros:\n",
        "\n",
        "Tiempo de Contrato (tenure): Existe una relación inversa entre el tiempo de contrato y la evasión. Los clientes con un tenure bajo (pocos meses de antigüedad) son mucho más propensos a cancelar el servicio.\n",
        "\n",
        "Cargos Mensuales (Charges.Monthly): Los clientes que evaden tienen un promedio de Charges.Monthly significativamente más alto que los clientes que no evaden. Esto podría indicar que los servicios de mayor costo no están cumpliendo con las expectativas del cliente o que un gasto elevado los hace más sensibles a la competencia."
      ],
      "metadata": {
        "id": "zgwPofO7UGJX"
      }
    },
    {
      "cell_type": "markdown",
      "source": [
        "## Conclusiones e Insights"
      ],
      "metadata": {
        "id": "XqshdqmSXP-W"
      }
    },
    {
      "cell_type": "markdown",
      "source": [
        "- Riesgo en Clientes Nuevos: La evasión es un problema predominante en los primeros meses de la relación con el cliente.\n",
        "\n",
        "- Dependencia del Contrato: La falta de un contrato a largo plazo es un factor de riesgo importante, especialmente para los clientes de mes a mes.\n",
        "\n",
        "- Impacto de los Pagos y Cargos: El método de pago y un gasto mensual elevado están fuertemente asociados con una mayor probabilidad de Churn."
      ],
      "metadata": {
        "id": "T1xC8Vx8XW7m"
      }
    },
    {
      "cell_type": "markdown",
      "source": [
        "## Recomendaciones"
      ],
      "metadata": {
        "id": "YgUIk6JtXhN1"
      }
    },
    {
      "cell_type": "markdown",
      "source": [
        "1. Programa de Bienvenida para Clientes Nuevos: Implementar un plan proactivo para los nuevos clientes durante los primeros 6 meses, ofreciéndoles soporte técnico personalizado, encuestas de satisfacción y beneficios exclusivos.\n",
        "\n",
        "2. Incentivos para Contratos a Largo Plazo: Crear promociones atractivas, como descuentos en la factura o servicios adicionales, para alentar a los clientes de mes a mes a cambiarse a contratos de uno o dos años.\n",
        "\n",
        "3. Análisis de la Experiencia del Cliente con Pagos Electrónicos: Investigar las razones detrás de la alta evasión de los clientes que usan cheque electrónico para identificar y solucionar posibles fricciones en el proceso de pago."
      ],
      "metadata": {
        "id": "TpfZJ4pfXiLm"
      }
    }
  ]
}